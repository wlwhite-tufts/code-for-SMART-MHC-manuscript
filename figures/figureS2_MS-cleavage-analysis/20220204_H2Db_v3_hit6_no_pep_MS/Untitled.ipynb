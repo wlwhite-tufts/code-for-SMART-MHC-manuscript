{
 "cells": [
  {
   "cell_type": "code",
   "execution_count": 1,
   "metadata": {},
   "outputs": [],
   "source": [
    "import numpy as np\n",
    "from Bio.SeqUtils import molecular_weight"
   ]
  },
  {
   "cell_type": "code",
   "execution_count": 2,
   "metadata": {},
   "outputs": [],
   "source": [
    "masses = [7457, 10198, 10823, 21646, 30478]\n",
    "sequence = 'MGSSHHHHHHHHSSGGSGGDREDVERLLRAVEWAIKAGDPYSARVLVELAREDAEKIGDERLRREVEELLRELEEL'+\\\n",
    "           'GGSGGSGGSGGSGGSGGHSMRYFETAVSRPGLEEPRYISVGYVDNKEFVRFDSDAENPRYEPRAPWMEQEGPEYWE'+\\\n",
    "           'RETQKAKGQEQWFRVSLRNLLGYYNQSAGGSHTLQQMSGCDLGSDWRLLRGYLQFAYEGRDYIALNEDLKTWTAAD'+\\\n",
    "           'MAAQITRRKWEQSGAAEHYKAYLEGECVEWLHRYLKNGNATL'"
   ]
  },
  {
   "cell_type": "code",
   "execution_count": 3,
   "metadata": {},
   "outputs": [
    {
     "data": {
      "text/plain": [
       "30609.22479999999"
      ]
     },
     "execution_count": 3,
     "metadata": {},
     "output_type": "execute_result"
    }
   ],
   "source": [
    "molecular_weight(sequence,seq_type='protein')"
   ]
  },
  {
   "cell_type": "code",
   "execution_count": 4,
   "metadata": {},
   "outputs": [
    {
     "name": "stdout",
     "output_type": "stream",
     "text": [
      "7457 [7457.012] (48, 118)\n",
      "LAREDAEKIGDERLRREVEELLRELEELGGSGGSGGSGGSGGSGGHSMRYFETAVSRPGLEEPRYISVGY\n",
      "------\n",
      "10198 [10198.1194] (144, 232)\n",
      "QEGPEYWERETQKAKGQEQWFRVSLRNLLGYYNQSAGGSHTLQQMSGCDLGSDWRLLRGYLQFAYEGRDYIALNEDLKTWTAADMAAQ\n",
      "------\n",
      "10823 [10822.5676] (72, 169)\n",
      "LEELGGSGGSGGSGGSGGSGGHSMRYFETAVSRPGLEEPRYISVGYVDNKEFVRFDSDAENPRYEPRAPWMEQEGPEYWERETQKAKGQEQWFRVSL\n",
      "------\n",
      "21646 [21644.4629] (76, 267)\n",
      "GGSGGSGGSGGSGGSGGHSMRYFETAVSRPGLEEPRYISVGYVDNKEFVRFDSDAENPRYEPRAPWMEQEGPEYWERETQKAKGQEQWFRVSLRNLLGYYNQSAGGSHTLQQMSGCDLGSDWRLLRGYLQFAYEGRDYIALNEDLKTWTAADMAAQITRRKWEQSGAAEHYKAYLEGECVEWLHRYLKNGN\n",
      "------\n",
      "30478 [30478.0288] (1, 270)\n",
      "GSSHHHHHHHHSSGGSGGDREDVERLLRAVEWAIKAGDPYSARVLVELAREDAEKIGDERLRREVEELLRELEELGGSGGSGGSGGSGGSGGHSMRYFETAVSRPGLEEPRYISVGYVDNKEFVRFDSDAENPRYEPRAPWMEQEGPEYWERETQKAKGQEQWFRVSLRNLLGYYNQSAGGSHTLQQMSGCDLGSDWRLLRGYLQFAYEGRDYIALNEDLKTWTAADMAAQITRRKWEQSGAAEHYKAYLEGECVEWLHRYLKNGNATL\n",
      "------\n"
     ]
    }
   ],
   "source": [
    "frag_wts = {}\n",
    "for i in range(len(sequence)):\n",
    "    for ii in range(i+1,len(sequence)+1):\n",
    "        \n",
    "        subseq = sequence[i:ii]\n",
    "        frag_wts[molecular_weight(subseq,seq_type='protein')] = (i,ii)\n",
    "        \n",
    "all_masses = np.array(list(frag_wts.keys()))\n",
    "for mass in masses:\n",
    "    diff = np.abs(all_masses - mass)\n",
    "    idx = (diff == min(diff))\n",
    "    \n",
    "    print(mass, all_masses[idx], frag_wts[all_masses[idx][0]])\n",
    "    print(sequence[frag_wts[all_masses[idx][0]][0]:frag_wts[all_masses[idx][0]][1]])\n",
    "    print('------')"
   ]
  },
  {
   "cell_type": "code",
   "execution_count": 14,
   "metadata": {},
   "outputs": [
    {
     "name": "stdout",
     "output_type": "stream",
     "text": [
      "7457 [7452.0354] (4, 69)\n",
      "HHHHHHHHSSGGSGGDREDVERLLRAVEWAIKAGDPYSARVLVELAREDAEKIGDERLRREVEEL\n",
      "------\n",
      "10198 [10197.8422] (1, 97)\n",
      "GSSHHHHHHHHSSGGSGGDREDVERLLRAVEWAIKAGDPYSARVLVELAREDAEKIGDERLRREVEELLRELEELGGSGGSGGSGGSGGSGGHSMR\n",
      "------\n",
      "10823 [10809.485] (1, 102)\n",
      "GSSHHHHHHHHSSGGSGGDREDVERLLRAVEWAIKAGDPYSARVLVELAREDAEKIGDERLRREVEELLRELEELGGSGGSGGSGGSGGSGGHSMRYFETA\n",
      "------\n",
      "21646 [21649.4008] (9, 202)\n",
      "HHHSSGGSGGDREDVERLLRAVEWAIKAGDPYSARVLVELAREDAEKIGDERLRREVEELLRELEELGGSGGSGGSGGSGGSGGHSMRYFETAVSRPGLEEPRYISVGYVDNKEFVRFDSDAENPRYEPRAPWMEQEGPEYWERETQKAKGQEQWFRVSLRNLLGYYNQSAGGSHTLQQMSGCDLGSDWRLLR\n",
      "------\n",
      "30478 [30478.0288] (1, 270)\n",
      "GSSHHHHHHHHSSGGSGGDREDVERLLRAVEWAIKAGDPYSARVLVELAREDAEKIGDERLRREVEELLRELEELGGSGGSGGSGGSGGSGGHSMRYFETAVSRPGLEEPRYISVGYVDNKEFVRFDSDAENPRYEPRAPWMEQEGPEYWERETQKAKGQEQWFRVSLRNLLGYYNQSAGGSHTLQQMSGCDLGSDWRLLRGYLQFAYEGRDYIALNEDLKTWTAADMAAQITRRKWEQSGAAEHYKAYLEGECVEWLHRYLKNGNATL\n",
      "------\n"
     ]
    }
   ],
   "source": [
    "frag_wts = {}\n",
    "for i in range(10):\n",
    "    for ii in range(11,len(sequence)+1):\n",
    "        \n",
    "        subseq = sequence[i:ii]\n",
    "        frag_wts[molecular_weight(subseq,seq_type='protein')] = (i,ii)\n",
    "        \n",
    "all_masses = np.array(list(frag_wts.keys()))\n",
    "for mass in masses:\n",
    "    diff = np.abs(all_masses - mass)\n",
    "    idx = (diff == min(diff))\n",
    "    \n",
    "    print(mass, all_masses[idx], frag_wts[all_masses[idx][0]])\n",
    "    print(sequence[frag_wts[all_masses[idx][0]][0]:frag_wts[all_masses[idx][0]][1]])\n",
    "    print('------')"
   ]
  },
  {
   "cell_type": "code",
   "execution_count": 6,
   "metadata": {},
   "outputs": [
    {
     "data": {
      "text/plain": [
       "102"
      ]
     },
     "execution_count": 6,
     "metadata": {},
     "output_type": "execute_result"
    }
   ],
   "source": [
    "len('HSMRYFETAVSRPGLEEPRYISVGYVDNKEFVRFDSDAENPRYEPRAPWMEQEGPEYWERETQKAKGQEQWFRVSLRNLLGYYNQSAGGSHTLQQMSGCDLG')"
   ]
  },
  {
   "cell_type": "code",
   "execution_count": 15,
   "metadata": {},
   "outputs": [
    {
     "name": "stdout",
     "output_type": "stream",
     "text": [
      "7457 [7452.0354] (4, 69)\n",
      "HHHHHHHHSSGGSGGDREDVERLLRAVEWAIKAGDPYSARVLVELAREDAEKIGDERLRREVEEL\n",
      "------\n",
      "10198 [10197.8422] (1, 97)\n",
      "GSSHHHHHHHHSSGGSGGDREDVERLLRAVEWAIKAGDPYSARVLVELAREDAEKIGDERLRREVEELLRELEELGGSGGSGGSGGSGGSGGHSMR\n",
      "------\n",
      "10823 [10809.485] (1, 102)\n",
      "GSSHHHHHHHHSSGGSGGDREDVERLLRAVEWAIKAGDPYSARVLVELAREDAEKIGDERLRREVEELLRELEELGGSGGSGGSGGSGGSGGHSMRYFETA\n",
      "------\n",
      "21646 [21639.242] (1, 195)\n",
      "GSSHHHHHHHHSSGGSGGDREDVERLLRAVEWAIKAGDPYSARVLVELAREDAEKIGDERLRREVEELLRELEELGGSGGSGGSGGSGGSGGHSMRYFETAVSRPGLEEPRYISVGYVDNKEFVRFDSDAENPRYEPRAPWMEQEGPEYWERETQKAKGQEQWFRVSLRNLLGYYNQSAGGSHTLQQMSGCDLG\n",
      "------\n",
      "30478 [30478.0288] (1, 270)\n",
      "GSSHHHHHHHHSSGGSGGDREDVERLLRAVEWAIKAGDPYSARVLVELAREDAEKIGDERLRREVEELLRELEELGGSGGSGGSGGSGGSGGHSMRYFETAVSRPGLEEPRYISVGYVDNKEFVRFDSDAENPRYEPRAPWMEQEGPEYWERETQKAKGQEQWFRVSLRNLLGYYNQSAGGSHTLQQMSGCDLGSDWRLLRGYLQFAYEGRDYIALNEDLKTWTAADMAAQITRRKWEQSGAAEHYKAYLEGECVEWLHRYLKNGNATL\n",
      "------\n"
     ]
    }
   ],
   "source": [
    "frag_wts = {}\n",
    "for i in range(5):\n",
    "    for ii in range(11,len(sequence)+1):\n",
    "        \n",
    "        subseq = sequence[i:ii]\n",
    "        frag_wts[molecular_weight(subseq,seq_type='protein')] = (i,ii)\n",
    "        \n",
    "all_masses = np.array(list(frag_wts.keys()))\n",
    "for mass in masses:\n",
    "    diff = np.abs(all_masses - mass)\n",
    "    idx = (diff == min(diff))\n",
    "    \n",
    "    print(mass, all_masses[idx], frag_wts[all_masses[idx][0]])\n",
    "    print(sequence[frag_wts[all_masses[idx][0]][0]:frag_wts[all_masses[idx][0]][1]])\n",
    "    print('------')"
   ]
  },
  {
   "cell_type": "code",
   "execution_count": null,
   "metadata": {},
   "outputs": [],
   "source": []
  }
 ],
 "metadata": {
  "kernelspec": {
   "display_name": "basic",
   "language": "python",
   "name": "basic"
  },
  "language_info": {
   "codemirror_mode": {
    "name": "ipython",
    "version": 3
   },
   "file_extension": ".py",
   "mimetype": "text/x-python",
   "name": "python",
   "nbconvert_exporter": "python",
   "pygments_lexer": "ipython3",
   "version": "3.12.0"
  }
 },
 "nbformat": 4,
 "nbformat_minor": 4
}
