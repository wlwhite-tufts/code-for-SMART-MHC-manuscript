{
 "cells": [
  {
   "cell_type": "markdown",
   "id": "733aa307-e7bb-42ca-98cd-a66e5c02be3d",
   "metadata": {},
   "source": [
    "# IMPORTANT\n",
    "\n",
    "This notebook relies on some data that were too big to upload to GitHub. The necessary files can be downloaded at https://files.ipd.uw.edu/pub/SMART_MHC_2025/01_select_hits-00_ngs_processing-all_counts.csv and\n",
    "https://files.ipd.uw.edu/pub/SMART_MHC_2025/01_select_hits-00_ngs_processing-all_matches.csv these files should be downloaded directly into this directory.\n",
    "\n",
    "Note: these files are the same as those referenced in 01_select_hits/00_ngs_processing/README.txt"
   ]
  },
  {
   "cell_type": "code",
   "execution_count": 1,
   "id": "0e310948",
   "metadata": {},
   "outputs": [],
   "source": [
    "import pandas as pd\n",
    "import numpy as np\n",
    "import seaborn as sns\n",
    "import matplotlib.pyplot as plt\n",
    "from glob import glob\n",
    "from scipy.optimize import curve_fit\n",
    "from scipy.stats import gaussian_kde\n",
    "\n",
    "def line(x, slope):\n",
    "    return slope*x"
   ]
  },
  {
   "cell_type": "code",
   "execution_count": 2,
   "id": "54b0e6ea",
   "metadata": {},
   "outputs": [
    {
     "name": "stdout",
     "output_type": "stream",
     "text": [
      "339677 339677 10052\n",
      "339677\n"
     ]
    }
   ],
   "source": [
    "all_counts = pd.read_csv('01_select_hits-00_ngs_processing-all_counts.csv',index_col=0)\n",
    "count_cols = [x for x in all_counts.columns if 'count' in x]\n",
    "vals = all_counts[count_cols].values\n",
    "vals[np.isnan(vals)] = 0.5\n",
    "all_counts[count_cols] = vals\n",
    "\n",
    "matching_df = pd.read_csv('01_select_hits-00_ngs_processing-all_matches.csv')\n",
    "name_convert = pd.read_csv('selected_designs_with_metrics_renamed.csv')\n",
    "\n",
    "print(len(all_counts),len(matching_df),len(name_convert))\n",
    "all_counts = all_counts.merge(matching_df,left_on='name',right_on='query_name',how='outer')\n",
    "all_counts = all_counts.merge(name_convert,left_on='match_name',right_on='short_name',how='left')\n",
    "print(len(all_counts))"
   ]
  },
  {
   "cell_type": "code",
   "execution_count": 3,
   "id": "cd40e84e",
   "metadata": {},
   "outputs": [],
   "source": [
    "for lib in ['exp','pep','TCR-plus-pep','TCR-minus-pep','TCR-plus-pep-plus-pep']:\n",
    "    \n",
    "    rep1 = all_counts['counts_'+lib+'1']\n",
    "    rep2 = all_counts['counts_'+lib+'2']\n",
    "    slope,var = curve_fit(line,rep1,rep2)\n",
    "    \n",
    "    close_to_line = np.abs(np.log10(rep1) - np.log10(rep2) + np.log10(slope))/np.sqrt(2) < 0.5\n",
    "    enough_counts = (rep1 > 1) & (rep2 > 1)\n",
    "    good_idx = close_to_line & enough_counts\n",
    "    \n",
    "    all_counts.insert(len(all_counts.columns),lib+'_filter',good_idx)"
   ]
  },
  {
   "cell_type": "code",
   "execution_count": 4,
   "id": "d910299d",
   "metadata": {},
   "outputs": [],
   "source": [
    "filter_cols = [x for x in all_counts.columns if 'filter' in x]\n",
    "filtered = all_counts[np.any(all_counts[filter_cols].values, axis=1)]"
   ]
  },
  {
   "cell_type": "code",
   "execution_count": 5,
   "id": "4b763834",
   "metadata": {},
   "outputs": [],
   "source": [
    "lib_names = ['exp','pep','TCR-plus-pep','TCR-minus-pep','TCR-plus-pep-plus-pep']\n",
    "parent = {\n",
    "    'exp':'naive',\n",
    "    'pep':'exp',\n",
    "    'TCR-plus-pep':'pep',\n",
    "    'TCR-minus-pep':'pep',\n",
    "    'TCR-plus-pep-plus-pep':'TCR-plus-pep',\n",
    "}\n",
    "for i,lib in enumerate(lib_names):\n",
    "    rep1 = filtered['counts_'+lib+'1'].copy()\n",
    "    rep2 = filtered['counts_'+lib+'2'].copy()\n",
    "    \n",
    "    rep1[rep1<1] = 0\n",
    "    rep2[rep2<1] = 0\n",
    "    tot = rep1+rep2\n",
    "    tot[tot==0] = 0.5\n",
    "    \n",
    "    frac = tot/np.sum(tot)\n",
    "    \n",
    "    if lib == 'exp':\n",
    "        frac_prev = filtered['counts_naive']/np.sum(filtered['counts_naive'])\n",
    "    else:\n",
    "        rep1_prev = filtered['counts_'+parent[lib]+'1'].copy()\n",
    "        rep2_prev = filtered['counts_'+parent[lib]+'2'].copy()\n",
    "        \n",
    "        rep1_prev[rep1_prev<1] = 0\n",
    "        rep2_prev[rep2_prev<1] = 0\n",
    "        tot_prev = rep1_prev+rep2_prev\n",
    "        tot_prev[tot_prev==0] = 0.5\n",
    "        \n",
    "        frac_prev = tot_prev/np.sum(tot_prev)\n",
    "        \n",
    "    filtered.insert(len(filtered.columns), lib+'_rel_enrich', frac/frac_prev)"
   ]
  },
  {
   "cell_type": "code",
   "execution_count": 6,
   "id": "f65c8109",
   "metadata": {},
   "outputs": [
    {
     "name": "stdout",
     "output_type": "stream",
     "text": [
      "5435\n"
     ]
    }
   ],
   "source": [
    "perfect_matches = filtered[np.sum(filtered[['mismatches_alignment','mismatches_query']],axis=1)==0]\n",
    "print(len(perfect_matches))"
   ]
  },
  {
   "cell_type": "code",
   "execution_count": 7,
   "id": "a3df852e",
   "metadata": {},
   "outputs": [
    {
     "name": "stdout",
     "output_type": "stream",
     "text": [
      "5435\n"
     ]
    }
   ],
   "source": [
    "rif_score_df = pd.read_csv('native_rif_scores.csv')\n",
    "perfect_matches = perfect_matches.merge(rif_score_df,left_on='name_y',right_on='name',how='left')\n",
    "print(len(perfect_matches))"
   ]
  },
  {
   "cell_type": "code",
   "execution_count": 8,
   "id": "a1b89df4",
   "metadata": {},
   "outputs": [
    {
     "data": {
      "text/plain": [
       "Index(['AA', 'counts_TCR-plus-pep-plus-pep2', 'counts_TCR-plus-pep1',\n",
       "       'counts_TCR-plus-pep2', 'counts_pep1', 'counts_TCR-minus-pep1',\n",
       "       'counts_naive', 'counts_pep2', 'counts_TCR-minus-pep2', 'counts_exp2',\n",
       "       'counts_TCR-plus-pep-plus-pep1', 'counts_exp1', 'name_x',\n",
       "       'Unnamed: 0_x', 'query_name', 'query_len', 'hit_len', 'match_name',\n",
       "       'mismatches_query', 'mismatches_alignment', 'algn_len', 'score',\n",
       "       'e_val', 'Unnamed: 0_y', 'Unnamed: 0.1', 'SCORE:', 'total_score',\n",
       "       'binder_blocked_sap', 'contact_molec_sq5_ap_target',\n",
       "       'contact_molec_sq5_apap_target', 'contact_molecular_surface_ap_target',\n",
       "       'contact_molecular_surface_apap_target', 'contact_patch', 'ddg',\n",
       "       'dslf_fa13', 'fa_atr', 'fa_dun_dev', 'fa_dun_rot', 'fa_dun_semi',\n",
       "       'fa_elec', 'fa_intra_atr_xover4', 'fa_intra_elec',\n",
       "       'fa_intra_rep_xover4', 'fa_intra_sol_xover4', 'fa_rep', 'fa_sol',\n",
       "       'hbond_bb_sc', 'hbond_lr_bb', 'hbond_sc', 'hbond_sr_bb', 'hxl_tors',\n",
       "       'lk_ball', 'lk_ball_bridge', 'lk_ball_bridge_uncpl', 'lk_ball_iso',\n",
       "       'mismatch_probability', 'omega', 'p_aa_pp', 'pro_close', 'rama_prepro',\n",
       "       'ref', 'sap_score', 'sap_score_target', 'score_per_res',\n",
       "       'target_blocked_sap', 'description', 'name_y', 'global_lddt',\n",
       "       'interface_lddt', 'binder_lddt', 'binder_seq', 'target_seq',\n",
       "       'delta_sap_binder', 'delta_sap_target', 'length', 'short_name',\n",
       "       'exp_filter', 'pep_filter', 'TCR-plus-pep_filter',\n",
       "       'TCR-minus-pep_filter', 'TCR-plus-pep-plus-pep_filter',\n",
       "       'exp_rel_enrich', 'pep_rel_enrich', 'TCR-plus-pep_rel_enrich',\n",
       "       'TCR-minus-pep_rel_enrich', 'TCR-plus-pep-plus-pep_rel_enrich',\n",
       "       'Unnamed: 0', 'name', 'full_native_rif_score',\n",
       "       'full_native_rif_bb-hbond', 'full_native_rif_hyd-cont',\n",
       "       'full_native_rif_hyd-ddg', 'just_trp_rif_score',\n",
       "       'just_trp_rif_bb-hbond', 'just_trp_rif_hyd-cont',\n",
       "       'just_trp_rif_hyd-ddg'],\n",
       "      dtype='object')"
      ]
     },
     "execution_count": 8,
     "metadata": {},
     "output_type": "execute_result"
    }
   ],
   "source": [
    "perfect_matches.columns"
   ]
  },
  {
   "cell_type": "code",
   "execution_count": 22,
   "id": "1c6819b0",
   "metadata": {},
   "outputs": [
    {
     "data": {
      "image/png": "[encoded data removed]",
      "text/plain": [
       "<Figure size 576x432 with 1 Axes>"
      ]
     },
     "metadata": {
      "needs_background": "light"
     },
     "output_type": "display_data"
    },
    {
     "data": {
      "image/png": "[encoded data removed]",
      "text/plain": [
       "<Figure size 576x432 with 1 Axes>"
      ]
     },
     "metadata": {
      "needs_background": "light"
     },
     "output_type": "display_data"
    }
   ],
   "source": [
    "is_scramble = perfect_matches['match_name'].apply(lambda x: 'shuf' in str(x))\n",
    "good_trp = (perfect_matches['just_trp_rif_hyd-ddg'] < -3) & ~np.isnan(perfect_matches['just_trp_rif_hyd-ddg'])\n",
    "bad_trp = (perfect_matches['just_trp_rif_hyd-ddg'] >= -3) & ~np.isnan(perfect_matches['just_trp_rif_hyd-ddg'])\n",
    "\n",
    "subsets = {\n",
    "    'Shuffled': is_scramble,\n",
    "    '+ Trp': good_trp & ~is_scramble,\n",
    "    '- Trp': bad_trp & ~is_scramble\n",
    "}\n",
    "\n",
    "\n",
    "xlim = [[-5,5],[-10,10]]\n",
    "yticks = [[0,0.1,0.2,0.3],[0,0.1,0.2,0.3,0.4]]\n",
    "xticks = [[-4,-2,0,2,4],[-10,-5,0,5,10]]\n",
    "for i,sort in enumerate(['exp','pep']):\n",
    "    plt.figure(figsize=[8,6])\n",
    "    x = np.linspace(*xlim[i],5000)\n",
    "    for subset in subsets:\n",
    "        data = np.log2(perfect_matches.loc[subsets[subset],f'{sort}_rel_enrich'])\n",
    "        kde = gaussian_kde(data)\n",
    "        plt.plot(x,kde.evaluate(x),label=f'{subset} ({sum(subsets[subset])})')\n",
    "        plt.fill_between(x,kde.evaluate(x),alpha=0.5)\n",
    "        \n",
    "    leg = plt.legend(fontsize=24,loc=[1.1,0.3])\n",
    "    for line in leg.get_lines():\n",
    "        line.set_linewidth(4.0)\n",
    "    plt.xticks(xticks[i],fontsize=24)\n",
    "    plt.yticks(yticks[i],fontsize=24)\n",
    "    plt.savefig(f'{sort}_enrichment_kde.png',dpi=1000,bbox_inches='tight')"
   ]
  },
  {
   "cell_type": "code",
   "execution_count": 10,
   "id": "a2f7d71e",
   "metadata": {},
   "outputs": [
    {
     "data": {
      "text/plain": [
       "5435"
      ]
     },
     "execution_count": 10,
     "metadata": {},
     "output_type": "execute_result"
    }
   ],
   "source": [
    "len(perfect_matches)"
   ]
  },
  {
   "cell_type": "code",
   "execution_count": 11,
   "id": "adc6072f",
   "metadata": {},
   "outputs": [
    {
     "data": {
      "text/plain": [
       "5248"
      ]
     },
     "execution_count": 11,
     "metadata": {},
     "output_type": "execute_result"
    }
   ],
   "source": [
    "sum(~np.isnan(perfect_matches['just_trp_rif_hyd-ddg']))"
   ]
  },
  {
   "cell_type": "code",
   "execution_count": 12,
   "id": "1825e92d",
   "metadata": {},
   "outputs": [
    {
     "data": {
      "text/plain": [
       "49"
      ]
     },
     "execution_count": 12,
     "metadata": {},
     "output_type": "execute_result"
    }
   ],
   "source": [
    "sum((perfect_matches['just_trp_rif_hyd-ddg'] < -3) & (np.log10(perfect_matches['pep_rel_enrich']) > 0))"
   ]
  },
  {
   "cell_type": "code",
   "execution_count": 13,
   "id": "cfa92f84",
   "metadata": {},
   "outputs": [
    {
     "data": {
      "text/plain": [
       "204"
      ]
     },
     "execution_count": 13,
     "metadata": {},
     "output_type": "execute_result"
    }
   ],
   "source": [
    "sum((perfect_matches['just_trp_rif_hyd-ddg'] >= -3) & (np.log10(perfect_matches['pep_rel_enrich']) > 0))"
   ]
  },
  {
   "cell_type": "code",
   "execution_count": 14,
   "id": "88824c42",
   "metadata": {},
   "outputs": [
    {
     "data": {
      "text/plain": [
       "43"
      ]
     },
     "execution_count": 14,
     "metadata": {},
     "output_type": "execute_result"
    }
   ],
   "source": [
    "sum((perfect_matches['just_trp_rif_hyd-ddg'] < -3) & (np.log10(perfect_matches['pep_rel_enrich']) <= 0))"
   ]
  },
  {
   "cell_type": "code",
   "execution_count": 15,
   "id": "c0fd39b1",
   "metadata": {},
   "outputs": [
    {
     "data": {
      "text/plain": [
       "4952"
      ]
     },
     "execution_count": 15,
     "metadata": {},
     "output_type": "execute_result"
    }
   ],
   "source": [
    "sum((perfect_matches['just_trp_rif_hyd-ddg'] >= -3) & (np.log10(perfect_matches['pep_rel_enrich']) <= 0))"
   ]
  },
  {
   "cell_type": "code",
   "execution_count": 16,
   "id": "6a314572",
   "metadata": {},
   "outputs": [
    {
     "data": {
      "text/plain": [
       "0"
      ]
     },
     "execution_count": 16,
     "metadata": {},
     "output_type": "execute_result"
    }
   ],
   "source": [
    "sum(perfect_matches['match_name'].apply(lambda x: 'shuf' in str(x)) & (np.log10(perfect_matches['pep_rel_enrich']) > 0))"
   ]
  },
  {
   "cell_type": "code",
   "execution_count": 17,
   "id": "d5468feb",
   "metadata": {},
   "outputs": [
    {
     "data": {
      "text/html": [
       "<div>\n",
       "<style scoped>\n",
       "    .dataframe tbody tr th:only-of-type {\n",
       "        vertical-align: middle;\n",
       "    }\n",
       "\n",
       "    .dataframe tbody tr th {\n",
       "        vertical-align: top;\n",
       "    }\n",
       "\n",
       "    .dataframe thead th {\n",
       "        text-align: right;\n",
       "    }\n",
       "</style>\n",
       "<table border=\"1\" class=\"dataframe\">\n",
       "  <thead>\n",
       "    <tr style=\"text-align: right;\">\n",
       "      <th></th>\n",
       "      <th>AA</th>\n",
       "      <th>counts_TCR-plus-pep-plus-pep2</th>\n",
       "      <th>counts_TCR-plus-pep1</th>\n",
       "      <th>counts_TCR-plus-pep2</th>\n",
       "      <th>counts_pep1</th>\n",
       "      <th>counts_TCR-minus-pep1</th>\n",
       "      <th>counts_naive</th>\n",
       "      <th>counts_pep2</th>\n",
       "      <th>counts_TCR-minus-pep2</th>\n",
       "      <th>counts_exp2</th>\n",
       "      <th>...</th>\n",
       "      <th>Unnamed: 0</th>\n",
       "      <th>name</th>\n",
       "      <th>full_native_rif_score</th>\n",
       "      <th>full_native_rif_bb-hbond</th>\n",
       "      <th>full_native_rif_hyd-cont</th>\n",
       "      <th>full_native_rif_hyd-ddg</th>\n",
       "      <th>just_trp_rif_score</th>\n",
       "      <th>just_trp_rif_bb-hbond</th>\n",
       "      <th>just_trp_rif_hyd-cont</th>\n",
       "      <th>just_trp_rif_hyd-ddg</th>\n",
       "    </tr>\n",
       "  </thead>\n",
       "  <tbody>\n",
       "    <tr>\n",
       "      <th>0</th>\n",
       "      <td>TEIARRSVEELLEEAKHIDDPKRRFELLVLAQLVAEANNDPELERL...</td>\n",
       "      <td>6659.0</td>\n",
       "      <td>1321.0</td>\n",
       "      <td>2354.0</td>\n",
       "      <td>1712.0</td>\n",
       "      <td>1861.0</td>\n",
       "      <td>12.0</td>\n",
       "      <td>2699.0</td>\n",
       "      <td>2991.0</td>\n",
       "      <td>92.0</td>\n",
       "      <td>...</td>\n",
       "      <td>7611.0</td>\n",
       "      <td>HHH_b2_04759_000000178_std_0001_0001</td>\n",
       "      <td>12.763</td>\n",
       "      <td>0.0</td>\n",
       "      <td>0.0</td>\n",
       "      <td>-0.0</td>\n",
       "      <td>12.763</td>\n",
       "      <td>0.0</td>\n",
       "      <td>0.0</td>\n",
       "      <td>-0.0</td>\n",
       "    </tr>\n",
       "    <tr>\n",
       "      <th>1</th>\n",
       "      <td>SLEEAVRILLEKARKIEDEREREDVLILARLAAEAADDPELEKLVE...</td>\n",
       "      <td>2779.0</td>\n",
       "      <td>2155.0</td>\n",
       "      <td>4346.0</td>\n",
       "      <td>1736.0</td>\n",
       "      <td>3010.0</td>\n",
       "      <td>27.0</td>\n",
       "      <td>3248.0</td>\n",
       "      <td>3293.0</td>\n",
       "      <td>109.0</td>\n",
       "      <td>...</td>\n",
       "      <td>5756.0</td>\n",
       "      <td>HHH_b2_08092_000000297_std_0001_0001</td>\n",
       "      <td>-1.348</td>\n",
       "      <td>0.0</td>\n",
       "      <td>0.0</td>\n",
       "      <td>-0.0</td>\n",
       "      <td>-1.348</td>\n",
       "      <td>0.0</td>\n",
       "      <td>0.0</td>\n",
       "      <td>-0.0</td>\n",
       "    </tr>\n",
       "    <tr>\n",
       "      <th>2</th>\n",
       "      <td>SVAEEAVKHLLEKAKKIPDPKQRRDVLILAEIAARAYNNEELEELV...</td>\n",
       "      <td>2635.0</td>\n",
       "      <td>3130.0</td>\n",
       "      <td>2328.0</td>\n",
       "      <td>1284.0</td>\n",
       "      <td>1435.0</td>\n",
       "      <td>15.0</td>\n",
       "      <td>932.0</td>\n",
       "      <td>1042.0</td>\n",
       "      <td>73.0</td>\n",
       "      <td>...</td>\n",
       "      <td>6973.0</td>\n",
       "      <td>HHH_b2_04605_000000257_std_0001_0001</td>\n",
       "      <td>-1.452</td>\n",
       "      <td>0.0</td>\n",
       "      <td>0.0</td>\n",
       "      <td>-0.0</td>\n",
       "      <td>-1.452</td>\n",
       "      <td>0.0</td>\n",
       "      <td>0.0</td>\n",
       "      <td>-0.0</td>\n",
       "    </tr>\n",
       "    <tr>\n",
       "      <th>3</th>\n",
       "      <td>DSEELFRRAEERLKELERQGDKTQARFLAFRVVLELRELGDPELAE...</td>\n",
       "      <td>2228.0</td>\n",
       "      <td>1499.0</td>\n",
       "      <td>677.0</td>\n",
       "      <td>1752.0</td>\n",
       "      <td>2292.0</td>\n",
       "      <td>14.0</td>\n",
       "      <td>1194.0</td>\n",
       "      <td>982.0</td>\n",
       "      <td>109.0</td>\n",
       "      <td>...</td>\n",
       "      <td>8925.0</td>\n",
       "      <td>m_HHH_b1_07716_000000255_std_0001_22_34_H_._HH...</td>\n",
       "      <td>-1.009</td>\n",
       "      <td>0.0</td>\n",
       "      <td>0.0</td>\n",
       "      <td>-0.0</td>\n",
       "      <td>-1.009</td>\n",
       "      <td>0.0</td>\n",
       "      <td>0.0</td>\n",
       "      <td>-0.0</td>\n",
       "    </tr>\n",
       "    <tr>\n",
       "      <th>4</th>\n",
       "      <td>SREEVRRLLEEAKKIDDPHERNEALWRALAIALLSDDPELAELVVR...</td>\n",
       "      <td>2074.0</td>\n",
       "      <td>2074.0</td>\n",
       "      <td>1602.0</td>\n",
       "      <td>1792.0</td>\n",
       "      <td>1647.0</td>\n",
       "      <td>8.0</td>\n",
       "      <td>1312.0</td>\n",
       "      <td>1379.0</td>\n",
       "      <td>64.0</td>\n",
       "      <td>...</td>\n",
       "      <td>8638.0</td>\n",
       "      <td>HHH_b2_03012_000000029_std_0001_0001</td>\n",
       "      <td>-0.426</td>\n",
       "      <td>0.0</td>\n",
       "      <td>0.0</td>\n",
       "      <td>-0.0</td>\n",
       "      <td>-0.426</td>\n",
       "      <td>0.0</td>\n",
       "      <td>0.0</td>\n",
       "      <td>-0.0</td>\n",
       "    </tr>\n",
       "    <tr>\n",
       "      <th>...</th>\n",
       "      <td>...</td>\n",
       "      <td>...</td>\n",
       "      <td>...</td>\n",
       "      <td>...</td>\n",
       "      <td>...</td>\n",
       "      <td>...</td>\n",
       "      <td>...</td>\n",
       "      <td>...</td>\n",
       "      <td>...</td>\n",
       "      <td>...</td>\n",
       "      <td>...</td>\n",
       "      <td>...</td>\n",
       "      <td>...</td>\n",
       "      <td>...</td>\n",
       "      <td>...</td>\n",
       "      <td>...</td>\n",
       "      <td>...</td>\n",
       "      <td>...</td>\n",
       "      <td>...</td>\n",
       "      <td>...</td>\n",
       "      <td>...</td>\n",
       "    </tr>\n",
       "    <tr>\n",
       "      <th>5430</th>\n",
       "      <td>DEEVQRLVEELVREFNLSEEQEVILRILAKILDEFGFSPEEVKELL...</td>\n",
       "      <td>0.5</td>\n",
       "      <td>0.5</td>\n",
       "      <td>0.5</td>\n",
       "      <td>0.5</td>\n",
       "      <td>0.5</td>\n",
       "      <td>0.5</td>\n",
       "      <td>0.5</td>\n",
       "      <td>0.5</td>\n",
       "      <td>2.0</td>\n",
       "      <td>...</td>\n",
       "      <td>3854.0</td>\n",
       "      <td>HHH_b2_05050_000000158_std_0001_0001</td>\n",
       "      <td>-0.111</td>\n",
       "      <td>0.0</td>\n",
       "      <td>0.0</td>\n",
       "      <td>-0.0</td>\n",
       "      <td>-0.111</td>\n",
       "      <td>0.0</td>\n",
       "      <td>0.0</td>\n",
       "      <td>-0.0</td>\n",
       "    </tr>\n",
       "    <tr>\n",
       "      <th>5431</th>\n",
       "      <td>DEEEAKRLLEEVRRLEEKGDHKAVSQLALRIFLLLEEYNNPELKKI...</td>\n",
       "      <td>0.5</td>\n",
       "      <td>0.5</td>\n",
       "      <td>0.5</td>\n",
       "      <td>0.5</td>\n",
       "      <td>0.5</td>\n",
       "      <td>0.5</td>\n",
       "      <td>0.5</td>\n",
       "      <td>0.5</td>\n",
       "      <td>2.0</td>\n",
       "      <td>...</td>\n",
       "      <td>364.0</td>\n",
       "      <td>HHH_b1_03161_000000035_std_0001_0001</td>\n",
       "      <td>0.430</td>\n",
       "      <td>0.0</td>\n",
       "      <td>0.0</td>\n",
       "      <td>-0.0</td>\n",
       "      <td>0.430</td>\n",
       "      <td>0.0</td>\n",
       "      <td>0.0</td>\n",
       "      <td>-0.0</td>\n",
       "    </tr>\n",
       "    <tr>\n",
       "      <th>5432</th>\n",
       "      <td>DEEEREVKRLIEEAERDPRHARELLFRALQIALEYNNHELLHLVVE...</td>\n",
       "      <td>0.5</td>\n",
       "      <td>0.5</td>\n",
       "      <td>0.5</td>\n",
       "      <td>0.5</td>\n",
       "      <td>0.5</td>\n",
       "      <td>0.5</td>\n",
       "      <td>0.5</td>\n",
       "      <td>0.5</td>\n",
       "      <td>3.0</td>\n",
       "      <td>...</td>\n",
       "      <td>2990.0</td>\n",
       "      <td>HHH_b2_02936_000000226_std_0001_0001</td>\n",
       "      <td>-0.174</td>\n",
       "      <td>0.0</td>\n",
       "      <td>0.0</td>\n",
       "      <td>-0.0</td>\n",
       "      <td>-0.174</td>\n",
       "      <td>0.0</td>\n",
       "      <td>0.0</td>\n",
       "      <td>-0.0</td>\n",
       "    </tr>\n",
       "    <tr>\n",
       "      <th>5433</th>\n",
       "      <td>SEVEERARRLAERARELIRRGNPEEARELLFRLLALAFKGNDPEAF...</td>\n",
       "      <td>0.5</td>\n",
       "      <td>0.5</td>\n",
       "      <td>0.5</td>\n",
       "      <td>0.5</td>\n",
       "      <td>0.5</td>\n",
       "      <td>0.5</td>\n",
       "      <td>0.5</td>\n",
       "      <td>0.5</td>\n",
       "      <td>3.0</td>\n",
       "      <td>...</td>\n",
       "      <td>806.0</td>\n",
       "      <td>HHH_b2_05032_000000034_std_0001_0001_1</td>\n",
       "      <td>-0.559</td>\n",
       "      <td>0.0</td>\n",
       "      <td>0.0</td>\n",
       "      <td>-0.0</td>\n",
       "      <td>-0.559</td>\n",
       "      <td>0.0</td>\n",
       "      <td>0.0</td>\n",
       "      <td>-0.0</td>\n",
       "    </tr>\n",
       "    <tr>\n",
       "      <th>5434</th>\n",
       "      <td>SRERAEELLKEVRELFERGDKKRISELLLQIFWLAAETGDPEIKKI...</td>\n",
       "      <td>0.5</td>\n",
       "      <td>0.5</td>\n",
       "      <td>0.5</td>\n",
       "      <td>0.5</td>\n",
       "      <td>0.5</td>\n",
       "      <td>0.5</td>\n",
       "      <td>0.5</td>\n",
       "      <td>0.5</td>\n",
       "      <td>2.0</td>\n",
       "      <td>...</td>\n",
       "      <td>4461.0</td>\n",
       "      <td>HHH_b1_06147_000000104_std_0001_0001</td>\n",
       "      <td>-0.519</td>\n",
       "      <td>0.0</td>\n",
       "      <td>0.0</td>\n",
       "      <td>-0.0</td>\n",
       "      <td>-0.519</td>\n",
       "      <td>0.0</td>\n",
       "      <td>0.0</td>\n",
       "      <td>-0.0</td>\n",
       "    </tr>\n",
       "  </tbody>\n",
       "</table>\n",
       "<p>5435 rows × 96 columns</p>\n",
       "</div>"
      ],
      "text/plain": [
       "                                                     AA  \\\n",
       "0     TEIARRSVEELLEEAKHIDDPKRRFELLVLAQLVAEANNDPELERL...   \n",
       "1     SLEEAVRILLEKARKIEDEREREDVLILARLAAEAADDPELEKLVE...   \n",
       "2     SVAEEAVKHLLEKAKKIPDPKQRRDVLILAEIAARAYNNEELEELV...   \n",
       "3     DSEELFRRAEERLKELERQGDKTQARFLAFRVVLELRELGDPELAE...   \n",
       "4     SREEVRRLLEEAKKIDDPHERNEALWRALAIALLSDDPELAELVVR...   \n",
       "...                                                 ...   \n",
       "5430  DEEVQRLVEELVREFNLSEEQEVILRILAKILDEFGFSPEEVKELL...   \n",
       "5431  DEEEAKRLLEEVRRLEEKGDHKAVSQLALRIFLLLEEYNNPELKKI...   \n",
       "5432  DEEEREVKRLIEEAERDPRHARELLFRALQIALEYNNHELLHLVVE...   \n",
       "5433  SEVEERARRLAERARELIRRGNPEEARELLFRLLALAFKGNDPEAF...   \n",
       "5434  SRERAEELLKEVRELFERGDKKRISELLLQIFWLAAETGDPEIKKI...   \n",
       "\n",
       "      counts_TCR-plus-pep-plus-pep2  counts_TCR-plus-pep1  \\\n",
       "0                            6659.0                1321.0   \n",
       "1                            2779.0                2155.0   \n",
       "2                            2635.0                3130.0   \n",
       "3                            2228.0                1499.0   \n",
       "4                            2074.0                2074.0   \n",
       "...                             ...                   ...   \n",
       "5430                            0.5                   0.5   \n",
       "5431                            0.5                   0.5   \n",
       "5432                            0.5                   0.5   \n",
       "5433                            0.5                   0.5   \n",
       "5434                            0.5                   0.5   \n",
       "\n",
       "      counts_TCR-plus-pep2  counts_pep1  counts_TCR-minus-pep1  counts_naive  \\\n",
       "0                   2354.0       1712.0                 1861.0          12.0   \n",
       "1                   4346.0       1736.0                 3010.0          27.0   \n",
       "2                   2328.0       1284.0                 1435.0          15.0   \n",
       "3                    677.0       1752.0                 2292.0          14.0   \n",
       "4                   1602.0       1792.0                 1647.0           8.0   \n",
       "...                    ...          ...                    ...           ...   \n",
       "5430                   0.5          0.5                    0.5           0.5   \n",
       "5431                   0.5          0.5                    0.5           0.5   \n",
       "5432                   0.5          0.5                    0.5           0.5   \n",
       "5433                   0.5          0.5                    0.5           0.5   \n",
       "5434                   0.5          0.5                    0.5           0.5   \n",
       "\n",
       "      counts_pep2  counts_TCR-minus-pep2  counts_exp2  ...  Unnamed: 0  \\\n",
       "0          2699.0                 2991.0         92.0  ...      7611.0   \n",
       "1          3248.0                 3293.0        109.0  ...      5756.0   \n",
       "2           932.0                 1042.0         73.0  ...      6973.0   \n",
       "3          1194.0                  982.0        109.0  ...      8925.0   \n",
       "4          1312.0                 1379.0         64.0  ...      8638.0   \n",
       "...           ...                    ...          ...  ...         ...   \n",
       "5430          0.5                    0.5          2.0  ...      3854.0   \n",
       "5431          0.5                    0.5          2.0  ...       364.0   \n",
       "5432          0.5                    0.5          3.0  ...      2990.0   \n",
       "5433          0.5                    0.5          3.0  ...       806.0   \n",
       "5434          0.5                    0.5          2.0  ...      4461.0   \n",
       "\n",
       "                                                   name full_native_rif_score  \\\n",
       "0                  HHH_b2_04759_000000178_std_0001_0001                12.763   \n",
       "1                  HHH_b2_08092_000000297_std_0001_0001                -1.348   \n",
       "2                  HHH_b2_04605_000000257_std_0001_0001                -1.452   \n",
       "3     m_HHH_b1_07716_000000255_std_0001_22_34_H_._HH...                -1.009   \n",
       "4                  HHH_b2_03012_000000029_std_0001_0001                -0.426   \n",
       "...                                                 ...                   ...   \n",
       "5430               HHH_b2_05050_000000158_std_0001_0001                -0.111   \n",
       "5431               HHH_b1_03161_000000035_std_0001_0001                 0.430   \n",
       "5432               HHH_b2_02936_000000226_std_0001_0001                -0.174   \n",
       "5433             HHH_b2_05032_000000034_std_0001_0001_1                -0.559   \n",
       "5434               HHH_b1_06147_000000104_std_0001_0001                -0.519   \n",
       "\n",
       "      full_native_rif_bb-hbond full_native_rif_hyd-cont  \\\n",
       "0                          0.0                      0.0   \n",
       "1                          0.0                      0.0   \n",
       "2                          0.0                      0.0   \n",
       "3                          0.0                      0.0   \n",
       "4                          0.0                      0.0   \n",
       "...                        ...                      ...   \n",
       "5430                       0.0                      0.0   \n",
       "5431                       0.0                      0.0   \n",
       "5432                       0.0                      0.0   \n",
       "5433                       0.0                      0.0   \n",
       "5434                       0.0                      0.0   \n",
       "\n",
       "      full_native_rif_hyd-ddg  just_trp_rif_score just_trp_rif_bb-hbond  \\\n",
       "0                        -0.0              12.763                   0.0   \n",
       "1                        -0.0              -1.348                   0.0   \n",
       "2                        -0.0              -1.452                   0.0   \n",
       "3                        -0.0              -1.009                   0.0   \n",
       "4                        -0.0              -0.426                   0.0   \n",
       "...                       ...                 ...                   ...   \n",
       "5430                     -0.0              -0.111                   0.0   \n",
       "5431                     -0.0               0.430                   0.0   \n",
       "5432                     -0.0              -0.174                   0.0   \n",
       "5433                     -0.0              -0.559                   0.0   \n",
       "5434                     -0.0              -0.519                   0.0   \n",
       "\n",
       "      just_trp_rif_hyd-cont  just_trp_rif_hyd-ddg  \n",
       "0                       0.0                  -0.0  \n",
       "1                       0.0                  -0.0  \n",
       "2                       0.0                  -0.0  \n",
       "3                       0.0                  -0.0  \n",
       "4                       0.0                  -0.0  \n",
       "...                     ...                   ...  \n",
       "5430                    0.0                  -0.0  \n",
       "5431                    0.0                  -0.0  \n",
       "5432                    0.0                  -0.0  \n",
       "5433                    0.0                  -0.0  \n",
       "5434                    0.0                  -0.0  \n",
       "\n",
       "[5435 rows x 96 columns]"
      ]
     },
     "execution_count": 17,
     "metadata": {},
     "output_type": "execute_result"
    }
   ],
   "source": [
    "perfect_matches"
   ]
  },
  {
   "cell_type": "code",
   "execution_count": null,
   "id": "da2ab63b",
   "metadata": {},
   "outputs": [],
   "source": []
  }
 ],
 "metadata": {
  "kernelspec": {
   "display_name": "base",
   "language": "python",
   "name": "base"
  },
  "language_info": {
   "codemirror_mode": {
    "name": "ipython",
    "version": 3
   },
   "file_extension": ".py",
   "mimetype": "text/x-python",
   "name": "python",
   "nbconvert_exporter": "python",
   "pygments_lexer": "ipython3",
   "version": "3.7.3"
  },
  "toc": {
   "base_numbering": 1,
   "nav_menu": {},
   "number_sections": true,
   "sideBar": true,
   "skip_h1_title": false,
   "title_cell": "Table of Contents",
   "title_sidebar": "Contents",
   "toc_cell": false,
   "toc_position": {},
   "toc_section_display": true,
   "toc_window_display": false
  }
 },
 "nbformat": 4,
 "nbformat_minor": 5
}
