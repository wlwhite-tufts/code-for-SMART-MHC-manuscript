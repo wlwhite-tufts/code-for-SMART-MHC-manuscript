{
 "cells": [
  {
   "cell_type": "code",
   "execution_count": 1,
   "metadata": {},
   "outputs": [],
   "source": [
    "import random"
   ]
  },
  {
   "cell_type": "code",
   "execution_count": 3,
   "metadata": {},
   "outputs": [],
   "source": [
    "loop_order = 'A1-57,9-19,B58-236'\n",
    "number = 100\n",
    "pdb = '<path/to/your>/03_linker/CSM8_af2pred.pdb' #replace this with your own af2-predicted design model\n",
    "\n",
    "with open('<desired/path/to>/inpainting_cmds.list','w') as f:\n",
    "    for i in range(number):\n",
    "        f.write(f'python <path/to/your>/inpaint.py '+\\ #this is in the installation of RFDesign\n",
    "                f'--pdb {pdb} --out <desited/path/to>/inpainting_outputs/CSM8_{i} '+\\\n",
    "                f'--contigs {loop_order} --num_designs 1 '+\\\n",
    "                f'--dump_npz --tmpl_conf {random.uniform(0.4,0.9)}\\n')"
   ]
  }
 ],
 "metadata": {
  "kernelspec": {
   "display_name": "python_37",
   "language": "python",
   "name": "python_37"
  },
  "language_info": {
   "codemirror_mode": {
    "name": "ipython",
    "version": 3
   },
   "file_extension": ".py",
   "mimetype": "text/x-python",
   "name": "python",
   "nbconvert_exporter": "python",
   "pygments_lexer": "ipython3",
   "version": "3.7.4"
  }
 },
 "nbformat": 4,
 "nbformat_minor": 4
}
