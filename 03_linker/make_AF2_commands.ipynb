{
 "cells": [
  {
   "cell_type": "code",
   "execution_count": 1,
   "metadata": {},
   "outputs": [],
   "source": [
    "import pandas as pd\n",
    "from glob import glob\n",
    "import seaborn as sns\n",
    "import numpy as np"
   ]
  },
  {
   "cell_type": "code",
   "execution_count": 2,
   "metadata": {},
   "outputs": [],
   "source": [
    "def fasta_dict(fasta):\n",
    "    with open(fasta,'r') as f:\n",
    "        lines = f.readlines()\n",
    "\n",
    "        seqs = {}\n",
    "        for l in range(0,len(lines),2):\n",
    "            \n",
    "            name = lines[l].replace('>','').replace('\\n','')\n",
    "            seq = lines[l+1].replace('\\n','')\n",
    "            \n",
    "            seqs[name] = seq\n",
    "        \n",
    "    return seqs"
   ]
  },
  {
   "cell_type": "code",
   "execution_count": 3,
   "metadata": {},
   "outputs": [],
   "source": [
    "score_df = []\n",
    "for fasta in glob('<path/to/your>/MPNN_outputs/seqs/*.fa'):\n",
    "    seq_dict = fasta_dict(fasta)\n",
    "    orig_name = fasta.split('/')[-1].replace('.fa','')\n",
    "    \n",
    "    for i,name in enumerate(seq_dict):\n",
    "        \n",
    "        if orig_name not in name:\n",
    "            score_df.append([f'{orig_name}_{i}', float(name.split(', ')[2].replace('score=','')), seq_dict[name]])\n",
    "            \n",
    "score_df = pd.DataFrame(score_df,columns=['name','score','sequence'])\n",
    "score_df['length'] = score_df['sequence'].map(lambda x: len(x))"
   ]
  },
  {
   "cell_type": "code",
   "execution_count": 4,
   "metadata": {},
   "outputs": [
    {
     "name": "stdout",
     "output_type": "stream",
     "text": [
      "36208\n",
      "36088\n"
     ]
    }
   ],
   "source": [
    "print(len(score_df))\n",
    "score_df = score_df.drop_duplicates('sequence')\n",
    "score_df.index = list(range(len(score_df)))\n",
    "print(len(score_df))"
   ]
  },
  {
   "cell_type": "code",
   "execution_count": 5,
   "metadata": {},
   "outputs": [
    {
     "name": "stdout",
     "output_type": "stream",
     "text": [
      "36088\n"
     ]
    }
   ],
   "source": [
    "inpainting_scores = pd.read_csv('<path/to/your>/inpainting_scores.csv',index_col=0) #from make_MPNN_commands.ipynb\n",
    "score_df['base_name'] = score_df['name'].map(lambda x: '_'.join(x.split('_')[:-1]))\n",
    "score_df = score_df.merge(inpainting_scores,left_on='base_name',right_on='name',how='left')\n",
    "\n",
    "score_df['name'] = score_df['name_x']\n",
    "del score_df['name_x']\n",
    "del score_df['name_y']\n",
    "\n",
    "score_df['has_cys'] = score_df['sequence'].map(lambda x: 'C' in x[:-179])\n",
    "\n",
    "print(len(score_df))"
   ]
  },
  {
   "cell_type": "code",
   "execution_count": 6,
   "metadata": {},
   "outputs": [
    {
     "data": {
      "text/html": [
       "<div>\n",
       "<style scoped>\n",
       "    .dataframe tbody tr th:only-of-type {\n",
       "        vertical-align: middle;\n",
       "    }\n",
       "\n",
       "    .dataframe tbody tr th {\n",
       "        vertical-align: top;\n",
       "    }\n",
       "\n",
       "    .dataframe thead th {\n",
       "        text-align: right;\n",
       "    }\n",
       "</style>\n",
       "<table border=\"1\" class=\"dataframe\">\n",
       "  <thead>\n",
       "    <tr style=\"text-align: right;\">\n",
       "      <th></th>\n",
       "      <th>score</th>\n",
       "      <th>sequence</th>\n",
       "      <th>length</th>\n",
       "      <th>base_name</th>\n",
       "      <th>pLDDT_full</th>\n",
       "      <th>pLDDT_inpaint</th>\n",
       "      <th>linker_start</th>\n",
       "      <th>linker_end</th>\n",
       "      <th>name</th>\n",
       "      <th>has_cys</th>\n",
       "    </tr>\n",
       "  </thead>\n",
       "  <tbody>\n",
       "    <tr>\n",
       "      <th>0</th>\n",
       "      <td>1.2185</td>\n",
       "      <td>MKEDVLRLLESARWHMAQGGGLYNARVLVEEAARLAATLTGPEAEA...</td>\n",
       "      <td>251</td>\n",
       "      <td>hit6_reloop_1427_0</td>\n",
       "      <td>0.838609</td>\n",
       "      <td>0.706821</td>\n",
       "      <td>59</td>\n",
       "      <td>72</td>\n",
       "      <td>hit6_reloop_1427_0_1</td>\n",
       "      <td>False</td>\n",
       "    </tr>\n",
       "    <tr>\n",
       "      <th>1</th>\n",
       "      <td>1.2683</td>\n",
       "      <td>AAADVRRLLASAEWLLAAGGGLRNAAALVDEAAALAATLTGPEAAA...</td>\n",
       "      <td>251</td>\n",
       "      <td>hit6_reloop_1427_0</td>\n",
       "      <td>0.838609</td>\n",
       "      <td>0.706821</td>\n",
       "      <td>59</td>\n",
       "      <td>72</td>\n",
       "      <td>hit6_reloop_1427_0_2</td>\n",
       "      <td>False</td>\n",
       "    </tr>\n",
       "    <tr>\n",
       "      <th>2</th>\n",
       "      <td>1.2359</td>\n",
       "      <td>MAEDVERLIASAEWWLAAGGGLRNARVLLDLAAEEAATLTGPEAEE...</td>\n",
       "      <td>251</td>\n",
       "      <td>hit6_reloop_1427_0</td>\n",
       "      <td>0.838609</td>\n",
       "      <td>0.706821</td>\n",
       "      <td>59</td>\n",
       "      <td>72</td>\n",
       "      <td>hit6_reloop_1427_0_3</td>\n",
       "      <td>False</td>\n",
       "    </tr>\n",
       "    <tr>\n",
       "      <th>3</th>\n",
       "      <td>1.2391</td>\n",
       "      <td>MAEDVRRLIASARWLMAQGGGLRGARYLLELARELARTLTGPEAEE...</td>\n",
       "      <td>251</td>\n",
       "      <td>hit6_reloop_1427_0</td>\n",
       "      <td>0.838609</td>\n",
       "      <td>0.706821</td>\n",
       "      <td>59</td>\n",
       "      <td>72</td>\n",
       "      <td>hit6_reloop_1427_0_4</td>\n",
       "      <td>False</td>\n",
       "    </tr>\n",
       "    <tr>\n",
       "      <th>4</th>\n",
       "      <td>0.9860</td>\n",
       "      <td>MREDVERLLRSARWHIEQGGGLYNARVLVEEARRLAETLSGPEAEE...</td>\n",
       "      <td>251</td>\n",
       "      <td>hit6_reloop_1427_0</td>\n",
       "      <td>0.838609</td>\n",
       "      <td>0.706821</td>\n",
       "      <td>59</td>\n",
       "      <td>72</td>\n",
       "      <td>hit6_reloop_1427_0_5</td>\n",
       "      <td>False</td>\n",
       "    </tr>\n",
       "  </tbody>\n",
       "</table>\n",
       "</div>"
      ],
      "text/plain": [
       "    score                                           sequence  length  \\\n",
       "0  1.2185  MKEDVLRLLESARWHMAQGGGLYNARVLVEEAARLAATLTGPEAEA...     251   \n",
       "1  1.2683  AAADVRRLLASAEWLLAAGGGLRNAAALVDEAAALAATLTGPEAAA...     251   \n",
       "2  1.2359  MAEDVERLIASAEWWLAAGGGLRNARVLLDLAAEEAATLTGPEAEE...     251   \n",
       "3  1.2391  MAEDVRRLIASARWLMAQGGGLRGARYLLELARELARTLTGPEAEE...     251   \n",
       "4  0.9860  MREDVERLLRSARWHIEQGGGLYNARVLVEEARRLAETLSGPEAEE...     251   \n",
       "\n",
       "            base_name  pLDDT_full  pLDDT_inpaint  linker_start  linker_end  \\\n",
       "0  hit6_reloop_1427_0    0.838609       0.706821            59          72   \n",
       "1  hit6_reloop_1427_0    0.838609       0.706821            59          72   \n",
       "2  hit6_reloop_1427_0    0.838609       0.706821            59          72   \n",
       "3  hit6_reloop_1427_0    0.838609       0.706821            59          72   \n",
       "4  hit6_reloop_1427_0    0.838609       0.706821            59          72   \n",
       "\n",
       "                   name  has_cys  \n",
       "0  hit6_reloop_1427_0_1    False  \n",
       "1  hit6_reloop_1427_0_2    False  \n",
       "2  hit6_reloop_1427_0_3    False  \n",
       "3  hit6_reloop_1427_0_4    False  \n",
       "4  hit6_reloop_1427_0_5    False  "
      ]
     },
     "execution_count": 6,
     "metadata": {},
     "output_type": "execute_result"
    }
   ],
   "source": [
    "score_df.head()"
   ]
  },
  {
   "cell_type": "code",
   "execution_count": 7,
   "metadata": {},
   "outputs": [],
   "source": [
    "score_df.to_csv('<desired/path/to>/MPNN_scores.csv')"
   ]
  },
  {
   "cell_type": "code",
   "execution_count": 8,
   "metadata": {},
   "outputs": [
    {
     "data": {
      "text/plain": [
       "0"
      ]
     },
     "execution_count": 8,
     "metadata": {},
     "output_type": "execute_result"
    }
   ],
   "source": [
    "np.sum(score_df['has_cys'])"
   ]
  },
  {
   "cell_type": "code",
   "execution_count": 9,
   "metadata": {},
   "outputs": [
    {
     "data": {
      "text/plain": [
       "<AxesSubplot:xlabel='length', ylabel='Count'>"
      ]
     },
     "execution_count": 9,
     "metadata": {},
     "output_type": "execute_result"
    },
    {
     "data": {
      "image/png": "[encoded data removed]",
      "text/plain": [
       "<Figure size 432x288 with 1 Axes>"
      ]
     },
     "metadata": {
      "needs_background": "light"
     },
     "output_type": "display_data"
    }
   ],
   "source": [
    "sns.histplot(score_df['length'],bins=list(range(240,275)))"
   ]
  },
  {
   "cell_type": "code",
   "execution_count": 10,
   "metadata": {},
   "outputs": [
    {
     "data": {
      "text/plain": [
       "<AxesSubplot:xlabel='score', ylabel='Count'>"
      ]
     },
     "execution_count": 10,
     "metadata": {},
     "output_type": "execute_result"
    },
    {
     "data": {
      "image/png": "[encoded data removed]",
      "text/plain": [
       "<Figure size 432x288 with 1 Axes>"
      ]
     },
     "metadata": {
      "needs_background": "light"
     },
     "output_type": "display_data"
    }
   ],
   "source": [
    "sns.histplot(score_df['score'])"
   ]
  },
  {
   "cell_type": "code",
   "execution_count": 11,
   "metadata": {},
   "outputs": [
    {
     "data": {
      "text/plain": [
       "<seaborn.axisgrid.JointGrid at 0x7f5aae284390>"
      ]
     },
     "execution_count": 11,
     "metadata": {},
     "output_type": "execute_result"
    },
    {
     "data": {
      "image/png": "[encoded data removed]",
      "text/plain": [
       "<Figure size 432x432 with 3 Axes>"
      ]
     },
     "metadata": {
      "needs_background": "light"
     },
     "output_type": "display_data"
    }
   ],
   "source": [
    "sns.jointplot(data=score_df,x='score',y='pLDDT_full',kind='hist')"
   ]
  },
  {
   "cell_type": "code",
   "execution_count": 12,
   "metadata": {},
   "outputs": [
    {
     "data": {
      "text/plain": [
       "<seaborn.axisgrid.JointGrid at 0x7f5aadd93250>"
      ]
     },
     "execution_count": 12,
     "metadata": {},
     "output_type": "execute_result"
    },
    {
     "data": {
      "image/png": "[encoded data removed]",
      "text/plain": [
       "<Figure size 432x432 with 3 Axes>"
      ]
     },
     "metadata": {
      "needs_background": "light"
     },
     "output_type": "display_data"
    }
   ],
   "source": [
    "sns.jointplot(data=score_df,x='score',y='pLDDT_inpaint',kind='hist')"
   ]
  },
  {
   "cell_type": "code",
   "execution_count": 15,
   "metadata": {},
   "outputs": [],
   "source": [
    "for length, group in score_df.groupby('length'):\n",
    "    group.index = list(range(len(group)))\n",
    "    \n",
    "    for i in range(0,len(group),100):\n",
    "        with open(f'<desired/path/to>/MPNN_outputs/for_AF2/{length}_{i//100}.fasta','w') as f:\n",
    "            for ii in range(i,min(i+100,len(group))):\n",
    "                name = group.loc[ii,'name']\n",
    "                seq = group.loc[ii,'sequence']\n",
    "                f.write(f'>{name}\\n{seq}\\n')"
   ]
  },
  {
   "cell_type": "code",
   "execution_count": 16,
   "metadata": {},
   "outputs": [],
   "source": [
    "with open('<desired/path/to>/AF2_cmds.list','w') as f:\n",
    "    for in_fasta in glob('<desired/path/to>/MPNN_outputs/for_AF2/*.fasta'):\n",
    "        name = in_fasta.split('/')[-1].replace('.fasta','')\n",
    "        linker_len = int(name.split('_')[0])\n",
    "        template = '<path/to/your>/CSM8_af2pred.pdb' #your AF2-predicted design model\n",
    "            \n",
    "        f.write('python <path/to/your>/03_linker/masked_template_AF2_monomer_pred.py '+\\\n",
    "                f'-fasta {in_fasta} -template_pdb {template} -exclude_template 1-57 '+\\\n",
    "                f'-outname <desired/path/to>/AF2_outputs/{name} -interface1 1-57 -interface2 {linker_len+57}-{linker_len+57+179}\\n')"
   ]
  },
  {
   "cell_type": "code",
   "execution_count": null,
   "metadata": {},
   "outputs": [],
   "source": []
  }
 ],
 "metadata": {
  "kernelspec": {
   "display_name": "python_37",
   "language": "python",
   "name": "python_37"
  },
  "language_info": {
   "codemirror_mode": {
    "name": "ipython",
    "version": 3
   },
   "file_extension": ".py",
   "mimetype": "text/x-python",
   "name": "python",
   "nbconvert_exporter": "python",
   "pygments_lexer": "ipython3",
   "version": "3.7.4"
  }
 },
 "nbformat": 4,
 "nbformat_minor": 4
}
