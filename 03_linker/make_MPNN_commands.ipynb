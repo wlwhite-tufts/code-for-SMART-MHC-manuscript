{
 "cells": [
  {
   "cell_type": "code",
   "execution_count": null,
   "metadata": {},
   "outputs": [],
   "source": [
    "import json\n",
    "from glob import glob\n",
    "from tqdm import tqdm\n",
    "from Bio import SeqIO\n",
    "import numpy as np\n",
    "import pandas as pd\n",
    "import seaborn as sns\n",
    "import matplotlib.pyplot as plt\n",
    "import shutil\n",
    "import os\n",
    "import warnings"
   ]
  },
  {
   "cell_type": "markdown",
   "metadata": {},
   "source": [
    "# Filter Inpaints"
   ]
  },
  {
   "cell_type": "code",
   "execution_count": null,
   "metadata": {},
   "outputs": [],
   "source": [
    "scores = pd.DataFrame(columns=['name','pLDDT_full','pLDDT_inpaint','linker_start','linker_end'])\n",
    "for i,trb in tqdm(enumerate(glob('<path/to/your>/inpainting_outputs/*.trb'))):\n",
    "    data = np.load(trb,allow_pickle=True)\n",
    "    \n",
    "    scores.loc[i,'name'] = trb.split('/')[-1].replace('.trb','')\n",
    "    scores.loc[i,'pLDDT_full'] = np.mean(data['lddt'])\n",
    "    scores.loc[i,'pLDDT_inpaint'] = np.mean(data['inpaint_lddt'])\n",
    "    \n",
    "    linker_len = int(data['sampled_mask'][0].split(',')[-2].split('-')[0])\n",
    "    scores.loc[i,'linker_start'] = len(data['lddt']) - 179 - linker_len + 1\n",
    "    scores.loc[i,'linker_end'] = len(data['lddt']) - 179\n",
    "    \n",
    "scores.to_csv('<desired/path/to>/inpainting_scores.csv')\n",
    "scores.head()"
   ]
  },
  {
   "cell_type": "code",
   "execution_count": null,
   "metadata": {},
   "outputs": [],
   "source": [
    "plt.figure()\n",
    "sns.histplot(scores['pLDDT_full'],bins=np.linspace(0.75,0.95,25))"
   ]
  },
  {
   "cell_type": "code",
   "execution_count": null,
   "metadata": {},
   "outputs": [],
   "source": [
    "sns.histplot(scores['pLDDT_inpaint'],bins=np.linspace(0.4,0.8,25))"
   ]
  },
  {
   "cell_type": "code",
   "execution_count": null,
   "metadata": {},
   "outputs": [],
   "source": [
    "sns.jointplot(data=scores,x='pLDDT_inpaint',y='pLDDT_full',kind='hist')"
   ]
  },
  {
   "cell_type": "code",
   "execution_count": null,
   "metadata": {},
   "outputs": [],
   "source": [
    "filtered_full = scores.sort_values(by='pLDDT_full',ascending=False,ignore_index=True).head(20)\n",
    "filtered_inpaint = scores.sort_values(by='pLDDT_inpaint',ascending=False,ignore_index=True).head(20)\n",
    "sub_filtered = pd.concat([filtered_full,filtered_inpaint],axis=0).drop_duplicates('name')\n",
    "filtered = pd.concat([filtered,sub_filtered],axis=0)\n",
    "\n",
    "print(len(filtered))\n",
    "filtered.head()"
   ]
  },
  {
   "cell_type": "markdown",
   "metadata": {},
   "source": [
    "# Make Commands"
   ]
  },
  {
   "cell_type": "code",
   "execution_count": null,
   "metadata": {},
   "outputs": [],
   "source": [
    "warnings.filterwarnings(\"ignore\")\n",
    "\n",
    "fixed_dict = {}\n",
    "for i,row in tqdm(filtered.iterrows()):\n",
    "    \n",
    "    seq = [a for a in SeqIO.parse(f'<path/to/your>/inpainting_outputs/{row[\"name\"]}.pdb', 'pdb-atom')][0].seq\n",
    "    \n",
    "    if 'normal' in row['name']:\n",
    "        fixed_res = list(range(1,row['linker_start'])) + list(range(row['linker_end']+1,len(seq)+1))\n",
    "        \n",
    "    else:\n",
    "        fixed_res = list(range(len(seq)-179+1,len(seq)+1))\n",
    "\n",
    "        trp_locs = np.where(np.array(list(seq[:-179]))=='W')[0]\n",
    "        for trp_loc in trp_locs:\n",
    "            fixed_res.append(int(trp_loc)+1)\n",
    "    \n",
    "    fixed_dict[row[\"name\"]] = {'A':fixed_res}"
   ]
  },
  {
   "cell_type": "code",
   "execution_count": null,
   "metadata": {},
   "outputs": [],
   "source": [
    "with open('<desired/path/to>/MPNN_fixed_residues.jsonl', 'w') as f:\n",
    "    f.write(json.dumps(fixed_dict) + '\\n')"
   ]
  },
  {
   "cell_type": "code",
   "execution_count": null,
   "metadata": {},
   "outputs": [],
   "source": [
    "pdbs = filtered['name'].map(lambda x: f'<path/to/your>/inpainting_outputs/{x}.pdb')\n",
    "batches = [pdbs[i:min(i+16,len(pdbs))] for i in range(0, len(pdbs), 16)]"
   ]
  },
  {
   "cell_type": "code",
   "execution_count": null,
   "metadata": {},
   "outputs": [],
   "source": [
    "for i,batch in enumerate(batches):\n",
    "    os.mkdir(f'<desired/path/to>/MPNN_inputs/batch_{i}')\n",
    "    for pdb in batch:\n",
    "        fname = pdb.split('/')[-1]\n",
    "        shutil.copy(pdb,f'<desired/path/to>/MPNN_inputs/batch_{i}/{fname}')"
   ]
  },
  {
   "cell_type": "code",
   "execution_count": null,
   "metadata": {},
   "outputs": [],
   "source": [
    "for batch in glob('<desired/path/to>/MPNN_inputs/batch*'):\n",
    "    with open(f'{batch}_cmd.sh','w') as f:\n",
    "        f.write('#!/bin/bash\\n'+\\\n",
    "                '#SBATCH -p long\\n'+\\\n",
    "                '#SBATCH --mem=2g\\n'+\\\n",
    "                '#SBATCH -c 1\\n'+\\\n",
    "                f'#SBATCH --output {batch}.out\\n'+\\\n",
    "                'python <path/to/your>/proteinmpnn/helper_scripts/parse_multiple_chains.py '+\\ #in protenMPNN installation\n",
    "                f'--input_path={batch} --output_path={batch}_parsed.jsonl\\n'+\\\n",
    "                f'python <path/to/your>/proteinmpnn/protein_mpnn_run.py --jsonl_path {batch}_parsed.jsonl '+\\\n",
    "                '--fixed_positions_jsonl <path/to/your>/MPNN_fixed_residues.jsonl --out_folder <desired/path/to>/MPNN_outputs '+\\\n",
    "                '--omit_AAs C --num_seq_per_target 16 --sampling_temp \"0.1\" --batch_size 8 --model_name \"v_48_020\"')"
   ]
  },
  {
   "cell_type": "code",
   "execution_count": null,
   "metadata": {},
   "outputs": [],
   "source": []
  }
 ],
 "metadata": {
  "kernelspec": {
   "display_name": "basic",
   "language": "python",
   "name": "basic"
  },
  "language_info": {
   "codemirror_mode": {
    "name": "ipython",
    "version": 3
   },
   "file_extension": ".py",
   "mimetype": "text/x-python",
   "name": "python",
   "nbconvert_exporter": "python",
   "pygments_lexer": "ipython3",
   "version": "3.12.2"
  }
 },
 "nbformat": 4,
 "nbformat_minor": 4
}
